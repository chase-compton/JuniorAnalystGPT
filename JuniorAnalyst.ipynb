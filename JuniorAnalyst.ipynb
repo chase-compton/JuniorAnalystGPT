{
  "cells": [
    {
      "cell_type": "markdown",
      "metadata": {
        "id": "ubZG55hwAYvm"
      },
      "source": [
        "# **JuniorAnaylstGPT**\n",
        "\n",
        "---\n",
        "\n"
      ]
    },
    {
      "cell_type": "markdown",
      "metadata": {
        "id": "tFhgXL-7AoGl"
      },
      "source": [
        "Ensure all required packages are installed"
      ]
    },
    {
      "cell_type": "code",
      "execution_count": null,
      "metadata": {
        "id": "T8yoXlnA6iNn",
        "colab": {
          "base_uri": "https://localhost:8080/"
        },
        "outputId": "94238acc-7af0-4924-d14b-3e4ec1a4ff59"
      },
      "outputs": [
        {
          "output_type": "stream",
          "name": "stdout",
          "text": [
            "\u001b[2K     \u001b[90m━━━━━━━━━━━━━━━━━━━━━━━━━━━━━━━━━━━━━━━━\u001b[0m \u001b[32m311.6/311.6 kB\u001b[0m \u001b[31m2.1 MB/s\u001b[0m eta \u001b[36m0:00:00\u001b[0m\n",
            "\u001b[2K     \u001b[90m━━━━━━━━━━━━━━━━━━━━━━━━━━━━━━━━━━━━━━━━\u001b[0m \u001b[32m75.6/75.6 kB\u001b[0m \u001b[31m5.7 MB/s\u001b[0m eta \u001b[36m0:00:00\u001b[0m\n",
            "\u001b[2K     \u001b[90m━━━━━━━━━━━━━━━━━━━━━━━━━━━━━━━━━━━━━━━━\u001b[0m \u001b[32m77.9/77.9 kB\u001b[0m \u001b[31m3.9 MB/s\u001b[0m eta \u001b[36m0:00:00\u001b[0m\n",
            "\u001b[2K     \u001b[90m━━━━━━━━━━━━━━━━━━━━━━━━━━━━━━━━━━━━━━━━\u001b[0m \u001b[32m58.3/58.3 kB\u001b[0m \u001b[31m3.7 MB/s\u001b[0m eta \u001b[36m0:00:00\u001b[0m\n",
            "\u001b[?25h"
          ]
        }
      ],
      "source": [
        "!pip install openai --quiet"
      ]
    },
    {
      "cell_type": "markdown",
      "source": [
        "Mounting Google Drive"
      ],
      "metadata": {
        "id": "ojU8IyQ8Y8co"
      }
    },
    {
      "cell_type": "code",
      "source": [],
      "metadata": {
        "id": "QceBFQBFb1s0"
      },
      "execution_count": null,
      "outputs": []
    },
    {
      "cell_type": "markdown",
      "metadata": {
        "id": "viS-pkRaAw2B"
      },
      "source": [
        "Inital setup for the assistant"
      ]
    },
    {
      "cell_type": "code",
      "execution_count": null,
      "metadata": {
        "id": "06AixfYz43N5"
      },
      "outputs": [],
      "source": [
        "# Set up code for the assistant\n",
        "from openai import OpenAI\n",
        "from google.colab import userdata\n",
        "\n",
        "class JuniorAnaylstGPT:\n",
        "\n",
        "  def __init__(self):\n",
        "    self.Junior_Anaylst_GPT = client.beta.assistants.retrieve(userdata.get('assistant_id'))\n",
        "\n",
        "    self.Junior_Anaylst_GPT = client.beta.assistants.update(\n",
        "        userdata.get(\"assistant_id\"),\n",
        "        instructions=\"You are a personal finance assistant who is an expert. Your job is to help provide information to users regarding public companies. You can leverage functions and files to provide the information.\\\n",
        "        When a user asks a question first determine if a function is needed, if it is ensure that you have all the information needed to call the function. If you need more info, please prompt the user for the info.\\\n",
        "        When responding make sure information is presented accurately but with the excitement of an overly eager intern trying to impress his boss. Again, while keeping info accurate, be excited and \\\n",
        "        have intense reactions to the info you provide.\",\n",
        "        name=\"JuniorAnalystGPT\",\n",
        "        model=\"gpt-3.5-turbo-0125\",\n",
        "        tools=[\n",
        "            {\n",
        "                \"type\": \"function\",\n",
        "                \"function\": {\n",
        "                    \"name\": \"get_latest_price\",\n",
        "                    \"description\": \"Get the most recent price and other info such as volume, high and low for a stock based on the ticker.\",\n",
        "                    \"parameters\": {\n",
        "                        \"type\": \"object\",\n",
        "                        \"properties\": {\n",
        "                            \"ticker\": {\n",
        "                                \"type\": \"string\",\n",
        "                                \"description\": \"The ticker symbol for the requested stock.\",\n",
        "                            },\n",
        "                        },\n",
        "                        \"required\": [\"ticker\"],\n",
        "                    },\n",
        "                }\n",
        "            },\n",
        "            {\n",
        "                \"type\": \"function\",\n",
        "                \"function\": {\n",
        "                    \"name\": \"get_company_overview\",\n",
        "                    \"description\": \"Returns the company information, financial ratios, and other key metrics based on the ticker.\",\n",
        "                    \"parameters\": {\n",
        "                        \"type\": \"object\",\n",
        "                        \"properties\": {\n",
        "                            \"ticker\": {\n",
        "                                \"type\": \"string\",\n",
        "                                \"description\": \"The ticker symbol for the requested stock.\",\n",
        "                            },\n",
        "                        },\n",
        "                        \"required\": [\"ticker\"],\n",
        "                    },\n",
        "                }\n",
        "            },\n",
        "            {\n",
        "                \"type\": \"function\",\n",
        "                \"function\": {\n",
        "                    \"name\": \"get_income_statemnt\",\n",
        "                    \"description\": \"Get all the past income statements of a company based on the ticker.\",\n",
        "                    \"parameters\": {\n",
        "                        \"type\": \"object\",\n",
        "                        \"properties\": {\n",
        "                            \"ticker\": {\n",
        "                                \"type\": \"string\",\n",
        "                                \"description\": \"The ticker symbol for the requested stock.\",\n",
        "                            }\n",
        "                        },\n",
        "                        \"required\": [\"ticker\"],\n",
        "                    },\n",
        "                },\n",
        "            },\n",
        "            {\n",
        "                \"type\": \"function\",\n",
        "                \"function\": {\n",
        "                    \"name\": \"get_balance_sheet\",\n",
        "                    \"description\": \"Get all the past balance sheets of a company based on the ticker.\",\n",
        "                    \"parameters\": {\n",
        "                        \"type\": \"object\",\n",
        "                        \"properties\": {\n",
        "                            \"ticker\": {\n",
        "                                \"type\": \"string\",\n",
        "                                \"description\": \"The ticker symbol for the requested stock.\",\n",
        "                            }\n",
        "                        },\n",
        "                        \"required\": [\"ticker\"],\n",
        "                    },\n",
        "                },\n",
        "            },\n",
        "            {\n",
        "                \"type\": \"function\",\n",
        "                \"function\": {\n",
        "                    \"name\": \"get_cash_flow\",\n",
        "                    \"description\": \"Get all the past cash flow statements of a company based on the ticker.\",\n",
        "                    \"parameters\": {\n",
        "                        \"type\": \"object\",\n",
        "                        \"properties\": {\n",
        "                            \"ticker\": {\n",
        "                                \"type\": \"string\",\n",
        "                                \"description\": \"The ticker symbol for the requested stock.\",\n",
        "                            }\n",
        "                        },\n",
        "                        \"required\": [\"ticker\"],\n",
        "                    },\n",
        "                },\n",
        "            },\n",
        "            {\n",
        "                \"type\": \"function\",\n",
        "                \"function\": {\n",
        "                    \"name\": \"get_eps\",\n",
        "                    \"description\": \"Returns the annual and quarterly earnings (EPS) for the company of interest based on the ticker. Quarterly data also includes analyst estimates and surprise metrics.\",\n",
        "                    \"parameters\": {\n",
        "                        \"type\": \"object\",\n",
        "                        \"properties\": {\n",
        "                            \"ticker\": {\n",
        "                                \"type\": \"string\",\n",
        "                                \"description\": \"The ticker symbol for the requested stock.\",\n",
        "                            }\n",
        "                        },\n",
        "                        \"required\": [\"ticker\"],\n",
        "                    },\n",
        "                },\n",
        "            },\n",
        "            {\n",
        "                \"type\": \"function\",\n",
        "                \"function\": {\n",
        "                    \"name\": \"get_recent_news_and_sentiments\",\n",
        "                    \"description\": \"Get recent news and sentiments for specified tickers and topics. \",\n",
        "                    \"parameters\": {\n",
        "                        \"type\": \"object\",\n",
        "                        \"properties\": {\n",
        "                            \"tickers\": {\n",
        "                                \"type\": \"string\",\n",
        "                                \"description\": \"List of ticker symbols for filtering news. Enter as comma seperated list with no spaces. Example: META,IBM,TSLA\",\n",
        "                            },\n",
        "                            \"topics\": {\n",
        "                                \"type\": \"string\",\n",
        "                                \"description\": \"List of topics for filtering news. Valid topics are: blockchain, earnings, ipo, mergers_and_acquisitions, financial_markets, economy_fiscal, economy_monetary, economy_macro, energy_transportation, finance, life_sciences, manufacturing, real_estate, retail_wholesale, technology. Enter as comma seperated list with no spaces. Example: finance,real_estate,technology\",\n",
        "                            },\n",
        "                        },\n",
        "                    },\n",
        "                },\n",
        "            },\n",
        "            {\n",
        "                \"type\": \"function\",\n",
        "                \"function\": {\n",
        "                    \"name\": \"get_top_gainers_and_losers\",\n",
        "                    \"description\": \"Get information about top gainers and losers in the market.\",\n",
        "                },\n",
        "            },\n",
        "            {\n",
        "                \"type\": \"function\",\n",
        "                \"function\": {\n",
        "                    \"name\": \"get_upcoming_earnings\",\n",
        "                    \"description\": \"Get information about upcoming earnings announcements.\",\n",
        "                    \"parameters\": {\n",
        "                        \"type\": \"object\",\n",
        "                        \"properties\": {\n",
        "                            \"ticker\": {\n",
        "                                \"type\": \"string\",\n",
        "                                \"description\": \"The ticker symbol for filtering earnings. Ensure to ask the user if this is not given.\",\n",
        "                            },\n",
        "                            \"horizon\": {\n",
        "                                \"type\": \"string\",\n",
        "                                \"description\": \"The time horizon for filtering earnings (e.g., '3month', '6month', '12month').\",\n",
        "                            },\n",
        "                        },\n",
        "                        \"required\": [\"ticker\"],\n",
        "                    },\n",
        "                },\n",
        "            },\n",
        "            {\n",
        "                \"type\": \"function\",\n",
        "                \"function\": {\n",
        "                    \"name\": \"get_upcoming_ipos\",\n",
        "                    \"description\": \"Get information about upcoming IPOs (Initial Public Offerings).\"\n",
        "                }\n",
        "            }\n",
        "        ],\n",
        "    )\n",
        "    self.thread = client.beta.threads.create()\n",
        "\n",
        "  # Helper function for sending messages to assistant\n",
        "  def send_user_message(self, msg):\n",
        "    client.beta.threads.messages.create(\n",
        "    thread_id=self.thread.id,\n",
        "    role=\"user\",\n",
        "    content=msg,\n",
        "    )\n",
        "    with client.beta.threads.runs.stream(\n",
        "      thread_id=self.thread.id,\n",
        "      assistant_id=userdata.get(\"assistant_id\"),\n",
        "      event_handler=EventHandler()\n",
        "    ) as stream:\n",
        "      stream.until_done()\n"
      ]
    },
    {
      "cell_type": "markdown",
      "metadata": {
        "id": "2BiAtwx0A7QG"
      },
      "source": [
        "EventHandler class to handle events in the response stream and submit all tool outputs at once"
      ]
    },
    {
      "cell_type": "code",
      "execution_count": null,
      "metadata": {
        "id": "kC7jQG2zAVPf"
      },
      "outputs": [],
      "source": [
        "from typing_extensions import override\n",
        "from openai import AssistantEventHandler\n",
        "import json\n",
        "\n",
        "class EventHandler(AssistantEventHandler):\n",
        "    @override\n",
        "    def on_text_created(self, text) -> None:\n",
        "      print(f\"\\nassistant > \", end=\"\", flush=True)\n",
        "\n",
        "    @override\n",
        "    def on_text_delta(self, delta, snapshot):\n",
        "      print(delta.value, end=\"\", flush=True)\n",
        "\n",
        "    def on_tool_call_created(self, tool_call):\n",
        "      print(f\"\\nassistant > calling the {tool_call.function.name} {tool_call.type}...\", flush=True)\n",
        "\n",
        "    @override\n",
        "    def on_event(self, event):\n",
        "      # Retrieve events that are denoted with 'requires_action'\n",
        "      # since these will have our tool_calls\n",
        "      if event.event == 'thread.run.requires_action':\n",
        "        run_id = event.data.id  # Retrieve the run ID from the event data\n",
        "        self.handle_requires_action(event.data, run_id)\n",
        "\n",
        "    def handle_requires_action(self, data, run_id):\n",
        "      tool_outputs = []\n",
        "\n",
        "      for tool in data.required_action.submit_tool_outputs.tool_calls:\n",
        "        if tool.function.name == \"get_latest_price\":\n",
        "          args = json.loads(tool.function.arguments)\n",
        "          tool_outputs.append({\"tool_call_id\": tool.id, \"output\": get_latest_price(ticker=args['ticker'])})\n",
        "        if tool.function.name == \"get_company_overview\":\n",
        "          args = json.loads(tool.function.arguments)\n",
        "          tool_outputs.append({\"tool_call_id\": tool.id, \"output\": get_company_overview(ticker=args['ticker'])})\n",
        "        if tool.function.name == \"get_income_statemnt\":\n",
        "          args = json.loads(tool.function.arguments)\n",
        "          tool_outputs.append({\"tool_call_id\": tool.id, \"output\": get_income_statemnt(ticker=args['ticker'])})\n",
        "        if tool.function.name == \"get_balance_sheet\":\n",
        "          args = json.loads(tool.function.arguments)\n",
        "          tool_outputs.append({\"tool_call_id\": tool.id, \"output\": get_balance_sheet(ticker=args['ticker'])})\n",
        "        if tool.function.name == \"get_cash_flow\":\n",
        "          args = json.loads(tool.function.arguments)\n",
        "          tool_outputs.append({\"tool_call_id\": tool.id, \"output\": get_cash_flow(ticker=args['ticker'])})\n",
        "        if tool.function.name == \"get_eps\":\n",
        "          args = json.loads(tool.function.arguments)\n",
        "          tool_outputs.append({\"tool_call_id\": tool.id, \"output\": get_eps(ticker=args['ticker'])})\n",
        "        if tool.function.name == \"get_recent_news_and_sentiments\":\n",
        "          args = json.loads(tool.function.arguments)\n",
        "          symbols = None if 'tickers' not in args.keys() else args['tickers']\n",
        "          tops = None if 'topics' not in args.keys() else args['topics']\n",
        "          tool_outputs.append({\"tool_call_id\": tool.id, \"output\": get_recent_news_and_sentiments(tickers=symbols, topics=tops)})\n",
        "        if tool.function.name == \"get_top_gainers_and_losers\":\n",
        "          tool_outputs.append({\"tool_call_id\": tool.id, \"output\": get_top_gainers_and_losers()})\n",
        "        if tool.function.name == \"get_upcoming_earnings\":\n",
        "          args = json.loads(tool.function.arguments)\n",
        "          time_frame = None if 'horizon' not in args.keys() else args['horizon']\n",
        "          tool_outputs.append({\"tool_call_id\": tool.id, \"output\": get_upcoming_earnings(ticker=args['ticker'], horizon=time_frame)})\n",
        "        if tool.function.name == \"get_upcoming_ipos\":\n",
        "          tool_outputs.append({\"tool_call_id\": tool.id, \"output\": get_upcoming_ipos()})\n",
        "\n",
        "      # Submit all tool_outputs at the same time\n",
        "      self.submit_tool_outputs(tool_outputs, run_id)\n",
        "\n",
        "    def submit_tool_outputs(self, tool_outputs, run_id):\n",
        "      # Use the submit_tool_outputs_stream helper\n",
        "      with client.beta.threads.runs.submit_tool_outputs_stream(\n",
        "        thread_id=self.current_run.thread_id,\n",
        "        run_id=self.current_run.id,\n",
        "        tool_outputs=tool_outputs,\n",
        "        event_handler=EventHandler(),\n",
        "      ) as stream:\n",
        "        stream.until_done()"
      ]
    },
    {
      "cell_type": "markdown",
      "metadata": {
        "id": "uX9lwTLPBCkw"
      },
      "source": [
        "Helper functions for Alpha Intelligence API"
      ]
    },
    {
      "cell_type": "code",
      "execution_count": null,
      "metadata": {
        "id": "FJ0YaOd14N5L"
      },
      "outputs": [],
      "source": [
        "import requests\n",
        "import csv\n",
        "import json\n",
        "from io import StringIO\n",
        "\n",
        "def call_alpha_intel_api(query):\n",
        "    try:\n",
        "        url = 'https://www.alphavantage.co/query?{}'.format(query + '&apikey=demo')\n",
        "        r = requests.get(url)\n",
        "        r.raise_for_status()  # Raise an exception for 4xx or 5xx status codes\n",
        "\n",
        "        # Check if the response is CSV\n",
        "        if 'text/csv' in r.headers.get('Content-Type', '') or 'application/x-download' in r.headers.get('Content-Type', ''):\n",
        "            # If it's CSV, convert it to JSON using csv_to_json function\n",
        "            csv_data = r.text\n",
        "            json_data = csv_to_json(csv_data)\n",
        "            return json_data\n",
        "        else:\n",
        "            # If it's not CSV, return the JSON response\n",
        "            return json.dumps(r.json())\n",
        "    except requests.RequestException as e:\n",
        "        print(\"Error fetching data:\", e)\n",
        "        return None\n",
        "\n",
        "def csv_to_json(csv_input):\n",
        "    # Convert CSV string to list of dictionaries\n",
        "    csv_file = StringIO(csv_input)\n",
        "    csv_reader = csv.DictReader(csv_file)\n",
        "    data = list(csv_reader)\n",
        "    return json.dumps(data, indent=4)"
      ]
    },
    {
      "cell_type": "markdown",
      "metadata": {
        "id": "6Zi94wiiBIUS"
      },
      "source": [
        "All available functions for the model to leverage"
      ]
    },
    {
      "cell_type": "code",
      "execution_count": null,
      "metadata": {
        "id": "YlMtsqtgffLw"
      },
      "outputs": [],
      "source": [
        "# Functions that the model can leverage from the Alpha Intelligence API\n",
        "def get_latest_price(ticker):\n",
        "    query = \"function=GLOBAL_QUOTE&symbol={}\".format(ticker)\n",
        "    return call_alpha_intel_api(query)\n",
        "\n",
        "def get_company_overview(ticker):\n",
        "    query = \"function=OVERVIEW&symbol={}\".format(ticker)\n",
        "    return call_alpha_intel_api(query)\n",
        "\n",
        "def get_income_statemnt(ticker):\n",
        "    query = \"function=INCOME_STATEMENT&symbol={}\".format(ticker)\n",
        "    return call_alpha_intel_api(query)\n",
        "def get_balance_sheet(ticker):\n",
        "    query = \"function=BALANCE_SHEET&symbol={}\".format(ticker)\n",
        "    return call_alpha_intel_api(query)\n",
        "\n",
        "def get_cash_flow(ticker):\n",
        "    query = \"function=CASH_FLOW&symbol={}\".format(ticker)\n",
        "    return call_alpha_intel_api(query)\n",
        "\n",
        "def get_eps(ticker):\n",
        "    query = \"function=EARNINGS&symbol={}\".format(ticker)\n",
        "    return call_alpha_intel_api(query)\n",
        "\n",
        "def get_recent_news_and_sentiments(tickers = None, topics = None):\n",
        "    query = \"function=NEWS_SENTIMENT\"\n",
        "    if tickers is not None:\n",
        "      query += \"&tickers=\"\n",
        "      tickers = tickers.split(',')\n",
        "      for ticker in tickers:\n",
        "        query += ticker + \",\"\n",
        "      query = query[:-1]\n",
        "    if topics is not None:\n",
        "      query += \"&topics=\"\n",
        "      topics = topics.split(',')\n",
        "      for topic in topics:\n",
        "        query += topic + \",\"\n",
        "      query = query[:-1]\n",
        "    return call_alpha_intel_api(query)\n",
        "\n",
        "def get_top_gainers_and_losers():\n",
        "    query = \"function=TOP_GAINERS_LOSERS\"\n",
        "    return call_alpha_intel_api(query)\n",
        "\n",
        "def get_upcoming_earnings(ticker, horizon = None):\n",
        "    query = \"function=EARNINGS_CALENDAR&symbol={}\".format(ticker)\n",
        "    if horizon is not None:\n",
        "      query += \"&horizon={}\".format(horizon)\n",
        "    return call_alpha_intel_api(query)\n",
        "\n",
        "def get_upcoming_ipos():\n",
        "    query = \"function=IPO_CALENDAR\"\n",
        "    return call_alpha_intel_api(query)"
      ]
    },
    {
      "cell_type": "markdown",
      "metadata": {
        "id": "QkrQI0KEBORv"
      },
      "source": [
        "## Main Execution Loop"
      ]
    },
    {
      "cell_type": "code",
      "execution_count": null,
      "metadata": {
        "colab": {
          "base_uri": "https://localhost:8080/"
        },
        "id": "5Fmrkwrl3C7z",
        "outputId": "083f02a0-c2d5-40e7-a8de-be71947d1c43"
      },
      "outputs": [
        {
          "output_type": "stream",
          "name": "stdout",
          "text": [
            "Say hello to your personal Junior Analyst!\n",
            "(type \"quit\" to exit)\n",
            "(type \"info\" for info on the assistant)\n",
            "\n",
            "----------\n",
            "user > what is ibm latest price\n",
            "\n",
            "assistant > calling the get_latest_price function...\n",
            "\n",
            "assistant > 🚀📈 Oh, this is exciting news! The latest price of IBM (International Business Machines Corporation) is $167.13. It had a high of $167.87 today but traded as low as $165.73. The trading volume was 8,983,796 shares, showing strong market interest. Keep an eye on IBM's performance!\n",
            "----------\n",
            "user > quit\n",
            "\n",
            "Exiting...\n",
            "Goodbye!\n"
          ]
        }
      ],
      "source": [
        "# Main loop\n",
        "exit_keyword = 'quit'\n",
        "info_keyword = 'info'\n",
        "\n",
        "client = OpenAI(api_key=userdata.get('open_ai_api_key'), project=userdata.get('project_id'))\n",
        "jr = JuniorAnaylstGPT()\n",
        "\n",
        "print('Say hello to your personal Junior Analyst!\\n(type \"{}\" to exit)\\n(type \"{}\" for info on the assistant)'.format(exit_keyword, info_keyword))\n",
        "while True:\n",
        "    print('\\n----------')\n",
        "    user_input = input('user > ')\n",
        "    if user_input.lower() == exit_keyword:\n",
        "        print('\\nExiting...')\n",
        "        break\n",
        "    elif user_input.lower() == info_keyword:\n",
        "      print('\\nHere is the information on the assistant:\\n')\n",
        "      print(jr.Junior_Anaylst_GPT.name)\n",
        "      print(jr.Junior_Anaylst_GPT.model)\n",
        "      print(jr.Junior_Anaylst_GPT.instructions)\n",
        "      print(jr.Junior_Anaylst_GPT.tools)\n",
        "\n",
        "    else:\n",
        "      jr.send_user_message(user_input)\n",
        "\n",
        "print('Goodbye!')"
      ]
    }
  ],
  "metadata": {
    "colab": {
      "provenance": []
    },
    "kernelspec": {
      "display_name": "Python 3",
      "name": "python3"
    },
    "language_info": {
      "name": "python"
    }
  },
  "nbformat": 4,
  "nbformat_minor": 0
}